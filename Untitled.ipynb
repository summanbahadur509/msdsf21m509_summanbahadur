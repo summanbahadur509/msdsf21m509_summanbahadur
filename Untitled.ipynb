{
 "cells": [
  {
   "cell_type": "code",
   "execution_count": 1,
   "id": "8fbd6e21",
   "metadata": {},
   "outputs": [
    {
     "name": "stdout",
     "output_type": "stream",
     "text": [
      "215\n"
     ]
    }
   ],
   "source": [
    "apple = 200\n",
    "banana = 15\n",
    "total = apple+banana\n",
    "print(total)"
   ]
  },
  {
   "cell_type": "code",
   "execution_count": 2,
   "id": "62d6d596",
   "metadata": {},
   "outputs": [
    {
     "data": {
      "text/plain": [
       "140735940870160"
      ]
     },
     "execution_count": 2,
     "metadata": {},
     "output_type": "execute_result"
    }
   ],
   "source": [
    "id(apple)"
   ]
  },
  {
   "cell_type": "code",
   "execution_count": 3,
   "id": "06fa8f27",
   "metadata": {},
   "outputs": [
    {
     "data": {
      "text/plain": [
       "140735940864240"
      ]
     },
     "execution_count": 3,
     "metadata": {},
     "output_type": "execute_result"
    }
   ],
   "source": [
    "id(banana)"
   ]
  },
  {
   "cell_type": "code",
   "execution_count": 7,
   "id": "34996b31",
   "metadata": {},
   "outputs": [
    {
     "data": {
      "text/plain": [
       "2867862315696"
      ]
     },
     "execution_count": 7,
     "metadata": {},
     "output_type": "execute_result"
    }
   ],
   "source": [
    "str1 = \"Hello World\"\n",
    "str2 = \"Hello World\"\n",
    "id(str2)\n"
   ]
  },
  {
   "cell_type": "code",
   "execution_count": 8,
   "id": "c74c47be",
   "metadata": {},
   "outputs": [
    {
     "data": {
      "text/plain": [
       "'hello jupyter '"
      ]
     },
     "execution_count": 8,
     "metadata": {},
     "output_type": "execute_result"
    }
   ],
   "source": [
    "'hello jupyter '"
   ]
  },
  {
   "cell_type": "code",
   "execution_count": null,
   "id": "ddc1c6d8",
   "metadata": {},
   "outputs": [],
   "source": []
  },
  {
   "cell_type": "code",
   "execution_count": null,
   "id": "1ac2d0db",
   "metadata": {},
   "outputs": [],
   "source": []
  },
  {
   "cell_type": "code",
   "execution_count": null,
   "id": "10c92a6a",
   "metadata": {},
   "outputs": [],
   "source": []
  }
 ],
 "metadata": {
  "kernelspec": {
   "display_name": "Python 3",
   "language": "python",
   "name": "python3"
  },
  "language_info": {
   "codemirror_mode": {
    "name": "ipython",
    "version": 3
   },
   "file_extension": ".py",
   "mimetype": "text/x-python",
   "name": "python",
   "nbconvert_exporter": "python",
   "pygments_lexer": "ipython3",
   "version": "3.8.8"
  }
 },
 "nbformat": 4,
 "nbformat_minor": 5
}
